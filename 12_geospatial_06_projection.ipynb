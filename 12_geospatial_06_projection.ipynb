{
 "cells": [
  {
   "cell_type": "markdown",
   "metadata": {},
   "source": [
    "# Projections\n",
    "\n",
    "This script helps to practice the projection to 2D. Broadly speaking, people use two systems in spatial projection: lat/lon and meters. More specifically, the coordinate systems are adapted for different local areas. Researchers need to use the projection consistently, and choose the best projection for their own purposes. "
   ]
  },
  {
   "cell_type": "code",
   "execution_count": 32,
   "metadata": {},
   "outputs": [
    {
     "name": "stdout",
     "output_type": "stream",
     "text": [
      "Package                            Version\r\n",
      "---------------------------------- -------------------\r\n",
      "absl-py                            0.9.0\r\n",
      "access                             1.1.2\r\n",
      "affine                             2.3.0\r\n",
      "alabaster                          0.7.12\r\n",
      "anaconda-client                    1.7.2\r\n",
      "anaconda-navigator                 1.9.7\r\n",
      "anaconda-project                   0.8.3\r\n",
      "arrow                              0.15.7\r\n",
      "arviz                              0.6.1\r\n",
      "asn1crypto                         1.3.0\r\n",
      "astor                              0.8.1\r\n",
      "astroid                            2.3.3\r\n",
      "astropy                            4.0.1.post1\r\n",
      "atomicwrites                       1.4.0\r\n",
      "attrs                              19.3.0\r\n",
      "Babel                              2.8.0\r\n",
      "backcall                           0.2.0\r\n",
      "backports.functools-lru-cache      1.6.1\r\n",
      "backports.os                       0.1.1\r\n",
      "backports.shutil-get-terminal-size 1.0.0\r\n",
      "backports.tempfile                 1.0\r\n",
      "backports.weakref                  1.0.post1\r\n",
      "beautifulsoup4                     4.9.1\r\n",
      "biogeme                            3.2.6\r\n",
      "bitarray                           1.2.2\r\n",
      "bkcharts                           0.2\r\n",
      "bleach                             3.1.5\r\n",
      "bokeh                              2.1.1\r\n",
      "boto                               2.49.0\r\n",
      "Bottleneck                         1.3.2\r\n",
      "branca                             0.4.1\r\n",
      "brotlipy                           0.7.0\r\n",
      "Cartopy                            0.18.0\r\n",
      "certifi                            2020.6.20\r\n",
      "cffi                               1.14.0\r\n",
      "cftime                             1.1.0\r\n",
      "chardet                            3.0.4\r\n",
      "click                              7.1.2\r\n",
      "click-plugins                      1.1.1\r\n",
      "cligj                              0.5.0\r\n",
      "cloudpickle                        1.4.1\r\n",
      "clyent                             1.2.2\r\n",
      "colorama                           0.4.3\r\n",
      "conda                              4.9.2\r\n",
      "conda-build                        3.18.9\r\n",
      "conda-package-handling             1.7.0\r\n",
      "conda-verify                       3.4.2\r\n",
      "configparser                       5.0.0\r\n",
      "contextily                         1.0.0\r\n",
      "contextlib2                        0.6.0.post1\r\n",
      "coverage                           5.3\r\n",
      "cryptography                       2.9.2\r\n",
      "cycler                             0.10.0\r\n",
      "Cython                             0.29.20\r\n",
      "cytoolz                            0.10.1\r\n",
      "dask                               2.19.0\r\n",
      "decorator                          4.4.2\r\n",
      "defusedxml                         0.6.0\r\n",
      "descartes                          1.1.0\r\n",
      "distributed                        2.19.0\r\n",
      "docker-pycreds                     0.4.0\r\n",
      "docutils                           0.16\r\n",
      "dropbox                            10.2.0\r\n",
      "entrypoints                        0.3\r\n",
      "esda                               2.3.1\r\n",
      "et-xmlfile                         1.0.1\r\n",
      "factor-analyzer                    0.3.2\r\n",
      "fastcache                          1.1.0\r\n",
      "filelock                           3.0.12\r\n",
      "Fiona                              1.8.13.post1\r\n",
      "Flask                              1.1.2\r\n",
      "folium                             0.11.0\r\n",
      "fsspec                             0.7.4\r\n",
      "future                             0.18.2\r\n",
      "gast                               0.2.2\r\n",
      "GDAL                               2.4.2\r\n",
      "geographiclib                      1.50\r\n",
      "geopandas                          0.8.1\r\n",
      "geoplot                            0.4.1\r\n",
      "geopy                              2.0.0\r\n",
      "geos                               0.2.2\r\n",
      "gevent                             20.6.2\r\n",
      "giddy                              2.3.3\r\n",
      "gitdb                              4.0.4\r\n",
      "GitPython                          3.1.1\r\n",
      "glob2                              0.7\r\n",
      "gmpy2                              2.0.8\r\n",
      "google-pasta                       0.1.8\r\n",
      "GPUtil                             1.4.0\r\n",
      "gql                                0.2.0\r\n",
      "graphql-core                       1.1\r\n",
      "greenlet                           0.4.16\r\n",
      "grpcio                             1.27.1\r\n",
      "h5py                               2.10.0\r\n",
      "HeapDict                           1.0.1\r\n",
      "html5lib                           1.1\r\n",
      "hypothesis                         5.18.3\r\n",
      "idna                               2.10\r\n",
      "imageio                            2.8.0\r\n",
      "imagesize                          1.2.0\r\n",
      "importlib-metadata                 1.7.0\r\n",
      "inequality                         1.0.0\r\n",
      "ipykernel                          5.3.0\r\n",
      "ipython                            7.16.1\r\n",
      "ipython-genutils                   0.2.0\r\n",
      "ipywidgets                         7.5.1\r\n",
      "isort                              4.3.21\r\n",
      "itsdangerous                       1.1.0\r\n",
      "jdcal                              1.4.1\r\n",
      "jedi                               0.17.1\r\n",
      "jeepney                            0.4.3\r\n",
      "Jinja2                             2.11.2\r\n",
      "joblib                             0.15.1\r\n",
      "json5                              0.9.5\r\n",
      "jsonschema                         3.2.0\r\n",
      "jupyter                            1.0.0\r\n",
      "jupyter-client                     6.1.3\r\n",
      "jupyter-console                    6.1.0\r\n",
      "jupyter-core                       4.6.3\r\n",
      "jupyterlab                         2.1.5\r\n",
      "jupyterlab-server                  1.1.5\r\n",
      "Keras-Applications                 1.0.8\r\n",
      "Keras-Preprocessing                1.1.0\r\n",
      "keyring                            21.2.1\r\n",
      "kiwisolver                         1.2.0\r\n",
      "lazy-object-proxy                  1.5.0\r\n",
      "libarchive-c                       2.9\r\n",
      "libpysal                           4.3.0\r\n",
      "llvmlite                           0.33.0+1.g022ab0f\r\n",
      "locket                             0.2.0\r\n",
      "lxml                               4.5.1\r\n",
      "mapclassify                        2.3.0\r\n",
      "Markdown                           3.2\r\n",
      "MarkupSafe                         1.1.1\r\n",
      "matplotlib                         3.3.3\r\n",
      "mccabe                             0.6.1\r\n",
      "mercantile                         1.1.5\r\n",
      "mgwr                               2.1.2\r\n",
      "mistune                            0.8.4\r\n",
      "mkl-fft                            1.1.0\r\n",
      "mkl-random                         1.1.1\r\n",
      "mkl-service                        2.3.0\r\n",
      "mock                               4.0.2\r\n",
      "momepy                             0.3.0\r\n",
      "more-itertools                     8.4.0\r\n",
      "mpmath                             1.1.0\r\n",
      "msgpack                            1.0.0\r\n",
      "multipledispatch                   0.6.0\r\n",
      "munch                              2.5.0\r\n",
      "munkres                            1.1.4\r\n",
      "navigator-updater                  0.2.1\r\n",
      "nbconvert                          5.6.1\r\n",
      "nbformat                           5.0.7\r\n",
      "netCDF4                            1.5.3\r\n",
      "networkx                           2.5\r\n",
      "nltk                               3.5\r\n",
      "nose                               1.3.7\r\n",
      "notebook                           6.0.3\r\n",
      "numba                              0.50.1\r\n",
      "numexpr                            2.7.1\r\n",
      "numpy                              1.19.0\r\n",
      "numpydoc                           1.0.0\r\n",
      "nvidia-ml-py3                      7.352.0\r\n",
      "olefile                            0.46\r\n",
      "opencv-contrib-python              4.4.0.46\r\n",
      "opencv-python                      4.2.0.32\r\n",
      "openpyxl                           3.0.3\r\n",
      "opt-einsum                         3.1.0\r\n",
      "osmnx                              0.16.2\r\n",
      "OWSLib                             0.19.2\r\n",
      "packaging                          20.4\r\n",
      "pandas                             1.1.5\r\n",
      "pandocfilters                      1.4.2\r\n",
      "parso                              0.7.0\r\n",
      "partd                              1.1.0\r\n",
      "path.py                            12.0.1\r\n",
      "pathlib2                           2.3.5\r\n",
      "pathtools                          0.1.2\r\n",
      "patsy                              0.5.1\r\n",
      "pep8                               1.7.1\r\n",
      "pexpect                            4.8.0\r\n",
      "pickleshare                        0.7.5\r\n",
      "Pillow                             7.1.2\r\n",
      "pip                                20.1.1\r\n",
      "pkginfo                            1.5.0.1\r\n",
      "pluggy                             0.13.1\r\n",
      "ply                                3.11\r\n",
      "pointpats                          2.2.0\r\n",
      "proj                               0.2.0\r\n",
      "prometheus-client                  0.8.0\r\n",
      "promise                            2.3\r\n",
      "prompt-toolkit                     3.0.5\r\n",
      "protobuf                           3.11.3\r\n",
      "psutil                             5.7.0\r\n",
      "psycopg2                           2.8.5\r\n",
      "ptyprocess                         0.6.0\r\n",
      "py                                 1.9.0\r\n",
      "pycodestyle                        2.6.0\r\n",
      "pycosat                            0.6.3\r\n",
      "pycparser                          2.20\r\n",
      "pycrypto                           2.6.1\r\n",
      "pycurl                             7.43.0.5\r\n",
      "pyepsg                             0.4.0\r\n",
      "pyflakes                           2.2.0\r\n",
      "Pygments                           2.6.1\r\n",
      "pykdtree                           1.3.1\r\n",
      "pylint                             2.4.4\r\n",
      "pymc3                              3.8\r\n",
      "pyodbc                             4.0.0-unsupported\r\n",
      "pyOpenSSL                          19.1.0\r\n",
      "pyparsing                          2.4.7\r\n",
      "pyproj                             2.6.1.post1\r\n",
      "pyrsistent                         0.16.0\r\n",
      "pysal                              2.3.0\r\n",
      "pyshp                              2.1.0\r\n",
      "PySocks                            1.7.1\r\n",
      "pytest                             5.4.3\r\n",
      "pytest-arraydiff                   0.3\r\n",
      "pytest-astropy                     0.8.0\r\n",
      "pytest-astropy-header              0.1.2\r\n",
      "pytest-cov                         2.10.1\r\n",
      "pytest-doctestplus                 0.7.0\r\n",
      "pytest-openfiles                   0.5.0\r\n",
      "pytest-remotedata                  0.3.2\r\n",
      "python-dateutil                    2.8.0\r\n",
      "pytz                               2020.1\r\n",
      "PyWavelets                         1.1.1\r\n",
      "PyYAML                             5.3.1\r\n",
      "pyzmq                              19.0.1\r\n",
      "QtAwesome                          0.7.2\r\n",
      "qtconsole                          4.7.5\r\n",
      "QtPy                               1.9.0\r\n",
      "quantecon                          0.4.8\r\n",
      "rasterio                           1.1.5\r\n",
      "rasterstats                        0.15.0\r\n",
      "regex                              2020.6.8\r\n",
      "requests                           2.24.0\r\n",
      "rope                               0.17.0\r\n",
      "Rtree                              0.9.4\r\n",
      "ruamel-yaml                        0.15.87\r\n",
      "scikit-image                       0.16.2\r\n",
      "scikit-learn                       0.23.2\r\n",
      "scipy                              1.5.0\r\n",
      "seaborn                            0.10.1\r\n",
      "SecretStorage                      3.1.2\r\n",
      "segregation                        1.4.0\r\n",
      "Send2Trash                         1.5.0\r\n",
      "sentry-sdk                         0.14.3\r\n",
      "setuptools                         47.3.1.post20200622\r\n",
      "Shapely                            1.7.0\r\n",
      "shortuuid                          1.0.1\r\n",
      "simplegeneric                      0.8.1\r\n",
      "simplejson                         3.17.2\r\n",
      "singledispatch                     3.4.0.3\r\n",
      "six                                1.15.0\r\n",
      "smmap                              3.0.2\r\n",
      "snorkel                            0.9.6\r\n",
      "snowballstemmer                    2.0.0\r\n",
      "snuggs                             1.4.7\r\n",
      "sortedcollections                  1.2.1\r\n",
      "sortedcontainers                   2.2.2\r\n",
      "soupsieve                          2.0.1\r\n",
      "spaghetti                          1.5.3\r\n",
      "spglm                              1.0.8\r\n",
      "Sphinx                             3.1.2\r\n",
      "sphinxcontrib-applehelp            1.0.2\r\n",
      "sphinxcontrib-devhelp              1.0.2\r\n",
      "sphinxcontrib-htmlhelp             1.0.3\r\n",
      "sphinxcontrib-jsmath               1.0.1\r\n",
      "sphinxcontrib-qthelp               1.0.3\r\n",
      "sphinxcontrib-serializinghtml      1.1.4\r\n",
      "sphinxcontrib-websupport           1.2.3\r\n",
      "spint                              1.0.7\r\n",
      "splot                              1.1.3\r\n",
      "spreg                              1.1.2.post1\r\n",
      "spvcm                              0.3.0\r\n"
     ]
    },
    {
     "name": "stdout",
     "output_type": "stream",
     "text": [
      "spyder                             3.3.6\r\n",
      "spyder-kernels                     0.5.2\r\n",
      "SQLAlchemy                         1.3.18\r\n",
      "statsmodels                        0.11.1\r\n",
      "subprocess32                       3.5.4\r\n",
      "sympy                              1.6\r\n",
      "tables                             3.6.1\r\n",
      "tabulate                           0.8.6\r\n",
      "tblib                              1.6.0\r\n",
      "tensorboard                        1.15.0\r\n",
      "tensorflow-estimator               1.15.1\r\n",
      "tensorflow-gpu                     1.15.0\r\n",
      "termcolor                          1.1.0\r\n",
      "terminado                          0.8.3\r\n",
      "testpath                           0.4.4\r\n",
      "Theano                             1.0.4\r\n",
      "threadpoolctl                      2.1.0\r\n",
      "tobler                             0.4.0\r\n",
      "toolz                              0.10.0\r\n",
      "torch                              1.4.0\r\n",
      "torchvision                        0.5.0\r\n",
      "tornado                            6.0.4\r\n",
      "tqdm                               4.47.0\r\n",
      "traitlets                          4.3.3\r\n",
      "typing-extensions                  3.7.4.2\r\n",
      "unicodecsv                         0.14.1\r\n",
      "Unidecode                          1.1.1\r\n",
      "urllib3                            1.24.3\r\n",
      "wandb                              0.8.34\r\n",
      "watchdog                           0.10.2\r\n",
      "wcwidth                            0.2.5\r\n",
      "webencodings                       0.5.1\r\n",
      "Werkzeug                           1.0.1\r\n",
      "wheel                              0.34.2\r\n",
      "widgetsnbextension                 3.5.1\r\n",
      "wrapt                              1.12.1\r\n",
      "wurlitzer                          2.0.0\r\n",
      "xarray                             0.15.0\r\n",
      "xlrd                               1.2.0\r\n",
      "XlsxWriter                         1.2.9\r\n",
      "xlwt                               1.3.0\r\n",
      "zict                               2.0.0\r\n",
      "zipp                               3.1.0\r\n",
      "zope.event                         4.4\r\n",
      "zope.interface                     4.7.1\r\n"
     ]
    }
   ],
   "source": [
    "!pip list"
   ]
  },
  {
   "cell_type": "code",
   "execution_count": 14,
   "metadata": {},
   "outputs": [],
   "source": [
    "import geopandas as gpd \n",
    "import geoplot \n",
    "import pandas as pd\n",
    "from shapely.geometry import Point\n",
    "import matplotlib.pyplot as plt"
   ]
  },
  {
   "cell_type": "code",
   "execution_count": 9,
   "metadata": {},
   "outputs": [],
   "source": [
    "gdf = gpd.read_file(\"./data_shenhao/texas/texas.shp\")"
   ]
  },
  {
   "cell_type": "code",
   "execution_count": 11,
   "metadata": {
    "scrolled": true
   },
   "outputs": [
    {
     "data": {
      "text/plain": [
       "<Geographic 2D CRS: EPSG:4326>\n",
       "Name: WGS 84\n",
       "Axis Info [ellipsoidal]:\n",
       "- Lat[north]: Geodetic latitude (degree)\n",
       "- Lon[east]: Geodetic longitude (degree)\n",
       "Area of Use:\n",
       "- name: World\n",
       "- bounds: (-180.0, -90.0, 180.0, 90.0)\n",
       "Datum: World Geodetic System 1984\n",
       "- Ellipsoid: WGS 84\n",
       "- Prime Meridian: Greenwich"
      ]
     },
     "execution_count": 11,
     "metadata": {},
     "output_type": "execute_result"
    }
   ],
   "source": [
    "# show current projection.\n",
    "# EPSG:4326; ellipsoidal coordinate with lat and long.\n",
    "# WGS84 is standard for GPS using a reference ellipsoid.\n",
    "# Check info here: https://epsg.io/4326\n",
    "gdf.crs"
   ]
  },
  {
   "cell_type": "code",
   "execution_count": 30,
   "metadata": {
    "scrolled": true
   },
   "outputs": [
    {
     "data": {
      "text/plain": [
       "0      POLYGON ((-100.00687 36.49388, -100.00114 36.4...\n",
       "1      POLYGON ((-102.16757 36.05463, -102.16522 36.4...\n",
       "2      POLYGON ((-102.16757 36.05463, -103.02356 36.0...\n",
       "3      POLYGON ((-101.61950 36.05471, -101.62032 36.4...\n",
       "4      POLYGON ((-101.08231 36.05626, -101.08967 36.4...\n",
       "                             ...                        \n",
       "249    MULTIPOLYGON (((-97.96375 26.61275, -97.99151 ...\n",
       "250    POLYGON ((-98.59997 26.26045, -98.67792 26.242...\n",
       "251    POLYGON ((-98.59997 26.26045, -98.34128 26.787...\n",
       "252    MULTIPOLYGON (((-97.86896 26.34835, -97.87361 ...\n",
       "253    MULTIPOLYGON (((-97.25125 26.41930, -97.23211 ...\n",
       "Name: geometry, Length: 254, dtype: geometry"
      ]
     },
     "execution_count": 30,
     "metadata": {},
     "output_type": "execute_result"
    }
   ],
   "source": [
    "gdf['geometry'] # lat and lon as units."
   ]
  },
  {
   "cell_type": "code",
   "execution_count": 15,
   "metadata": {},
   "outputs": [
    {
     "data": {
      "image/png": "[encoded data removed]",
      "text/plain": [
       "<Figure size 432x288 with 1 Axes>"
      ]
     },
     "metadata": {
      "needs_background": "light"
     },
     "output_type": "display_data"
    }
   ],
   "source": [
    "# vis\n",
    "ax = gdf.plot()\n",
    "ax.set_axis_off()\n",
    "plt.show()"
   ]
  },
  {
   "cell_type": "code",
   "execution_count": 16,
   "metadata": {},
   "outputs": [],
   "source": [
    "# projection 1 \n",
    "gdf_proj_1 = gdf.to_crs(\"epsg:3879\")\n",
    "# gdf_proj_1 = gdf.to_crs(epsg=3879)"
   ]
  },
  {
   "cell_type": "code",
   "execution_count": 17,
   "metadata": {},
   "outputs": [
    {
     "data": {
      "text/plain": [
       "<Projected CRS: EPSG:3879>\n",
       "Name: ETRS89 / GK25FIN\n",
       "Axis Info [cartesian]:\n",
       "- N[north]: Northing (metre)\n",
       "- E[east]: Easting (metre)\n",
       "Area of Use:\n",
       "- name: Finland - 24.5°E to 25.5°E onshore nominal\n",
       "- bounds: (24.5, 59.94, 25.5, 68.9)\n",
       "Coordinate Operation:\n",
       "- name: Finland Gauss-Kruger zone 25\n",
       "- method: Transverse Mercator\n",
       "Datum: European Terrestrial Reference System 1989\n",
       "- Ellipsoid: GRS 1980\n",
       "- Prime Meridian: Greenwich"
      ]
     },
     "execution_count": 17,
     "metadata": {},
     "output_type": "execute_result"
    }
   ],
   "source": [
    "gdf_proj_1.crs\n",
    "# info: https://epsg.io/3879\n",
    "# sw: projection to a small area in Finland. "
   ]
  },
  {
   "cell_type": "code",
   "execution_count": 25,
   "metadata": {},
   "outputs": [
    {
     "data": {
      "image/png": "[encoded data removed]",
      "text/plain": [
       "<Figure size 432x288 with 1 Axes>"
      ]
     },
     "metadata": {
      "needs_background": "light"
     },
     "output_type": "display_data"
    }
   ],
   "source": [
    "# vis\n",
    "ax = gdf_proj_1.plot()\n",
    "ax.set_axis_off()\n",
    "plt.show()\n",
    "# sw: Nice. The projection that fits Finland makes Texas look horrible. "
   ]
  },
  {
   "cell_type": "code",
   "execution_count": 26,
   "metadata": {},
   "outputs": [],
   "source": [
    "# projection 2\n",
    "gdf_proj_2 = gdf.to_crs(\"epsg:26916\") # For US projection"
   ]
  },
  {
   "cell_type": "code",
   "execution_count": 27,
   "metadata": {},
   "outputs": [
    {
     "data": {
      "text/plain": [
       "<Projected CRS: EPSG:26916>\n",
       "Name: NAD83 / UTM zone 16N\n",
       "Axis Info [cartesian]:\n",
       "- E[east]: Easting (metre)\n",
       "- N[north]: Northing (metre)\n",
       "Area of Use:\n",
       "- name: North America - 90°W to 84°W and NAD83 by country\n",
       "- bounds: (-90.0, 23.97, -84.0, 84.0)\n",
       "Coordinate Operation:\n",
       "- name: UTM zone 16N\n",
       "- method: Transverse Mercator\n",
       "Datum: North American Datum 1983\n",
       "- Ellipsoid: GRS 1980\n",
       "- Prime Meridian: Greenwich"
      ]
     },
     "execution_count": 27,
     "metadata": {},
     "output_type": "execute_result"
    }
   ],
   "source": [
    "gdf_proj_2.crs\n",
    "# UTM: Universal Transverse Mercator\n",
    "# Note that is uses meters for E and N (not longitude and latitude) "
   ]
  },
  {
   "cell_type": "code",
   "execution_count": 29,
   "metadata": {},
   "outputs": [
    {
     "data": {
      "text/plain": [
       "0      POLYGON ((-667829.483 4118356.514, -667334.059...\n",
       "1      POLYGON ((-870913.945 4098278.937, -862871.991...\n",
       "2      POLYGON ((-870913.945 4098278.937, -948833.552...\n",
       "3      POLYGON ((-821051.191 4090481.827, -813566.942...\n",
       "4      POLYGON ((-772188.478 4083300.353, -765681.327...\n",
       "                             ...                        \n",
       "249    MULTIPOLYGON (((-595492.303 2990877.783, -5982...\n",
       "250    POLYGON ((-663181.962 2957100.631, -671253.014...\n",
       "251    POLYGON ((-663181.962 2957100.631, -631745.201...\n",
       "252    MULTIPOLYGON (((-588486.656 2960449.692, -5880...\n",
       "253    MULTIPOLYGON (((-525573.370 2963231.402, -5236...\n",
       "Name: geometry, Length: 254, dtype: geometry"
      ]
     },
     "execution_count": 29,
     "metadata": {},
     "output_type": "execute_result"
    }
   ],
   "source": [
    "gdf_proj_2['geometry'] # sw: meters as units?"
   ]
  },
  {
   "cell_type": "code",
   "execution_count": 31,
   "metadata": {},
   "outputs": [
    {
     "data": {
      "image/png": "[encoded data removed]",
      "text/plain": [
       "<Figure size 432x288 with 1 Axes>"
      ]
     },
     "metadata": {
      "needs_background": "light"
     },
     "output_type": "display_data"
    }
   ],
   "source": [
    "# vis\n",
    "ax = gdf_proj_2.plot()\n",
    "ax.set_axis_off()\n",
    "plt.show()\n",
    "# sw: small rotations exists, Hmm."
   ]
  },
  {
   "cell_type": "code",
   "execution_count": null,
   "metadata": {},
   "outputs": [],
   "source": []
  },
  {
   "cell_type": "code",
   "execution_count": null,
   "metadata": {},
   "outputs": [],
   "source": []
  },
  {
   "cell_type": "code",
   "execution_count": null,
   "metadata": {},
   "outputs": [],
   "source": []
  },
  {
   "cell_type": "code",
   "execution_count": null,
   "metadata": {},
   "outputs": [],
   "source": []
  },
  {
   "cell_type": "code",
   "execution_count": null,
   "metadata": {},
   "outputs": [],
   "source": []
  },
  {
   "cell_type": "code",
   "execution_count": null,
   "metadata": {},
   "outputs": [],
   "source": []
  },
  {
   "cell_type": "code",
   "execution_count": null,
   "metadata": {},
   "outputs": [],
   "source": []
  },
  {
   "cell_type": "code",
   "execution_count": null,
   "metadata": {},
   "outputs": [],
   "source": []
  },
  {
   "cell_type": "code",
   "execution_count": null,
   "metadata": {},
   "outputs": [],
   "source": []
  },
  {
   "cell_type": "code",
   "execution_count": null,
   "metadata": {},
   "outputs": [],
   "source": []
  },
  {
   "cell_type": "code",
   "execution_count": null,
   "metadata": {},
   "outputs": [],
   "source": []
  },
  {
   "cell_type": "code",
   "execution_count": null,
   "metadata": {},
   "outputs": [],
   "source": []
  },
  {
   "cell_type": "code",
   "execution_count": null,
   "metadata": {},
   "outputs": [],
   "source": []
  },
  {
   "cell_type": "code",
   "execution_count": null,
   "metadata": {},
   "outputs": [],
   "source": []
  }
 ],
 "metadata": {
  "kernelspec": {
   "display_name": "Python 3",
   "language": "python",
   "name": "python3"
  },
  "language_info": {
   "codemirror_mode": {
    "name": "ipython",
    "version": 3
   },
   "file_extension": ".py",
   "mimetype": "text/x-python",
   "name": "python",
   "nbconvert_exporter": "python",
   "pygments_lexer": "ipython3",
   "version": "3.7.5"
  }
 },
 "nbformat": 4,
 "nbformat_minor": 4
}
