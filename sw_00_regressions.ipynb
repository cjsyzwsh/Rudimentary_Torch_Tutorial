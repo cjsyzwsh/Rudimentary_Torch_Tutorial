{
 "cells": [
  {
   "cell_type": "markdown",
   "metadata": {},
   "source": [
    "# Use PyTorch to train linear and logistic regressions."
   ]
  },
  {
   "cell_type": "markdown",
   "metadata": {},
   "source": [
    "Simulate linear and logistic regressions. Use PyTorch to recover the true values."
   ]
  },
  {
   "cell_type": "code",
   "execution_count": 2,
   "metadata": {
    "scrolled": false
   },
   "outputs": [],
   "source": [
    "import numpy as np\n",
    "import pandas as pd\n",
    "import matplotlib.pyplot as plt\n",
    "import util\n",
    "\n",
    "import torch\n",
    "import torch.nn as nn\n",
    "import torch.nn.functional as F\n",
    "import torch.optim as optim\n"
   ]
  },
  {
   "cell_type": "markdown",
   "metadata": {},
   "source": [
    "## Logistic regression example 1"
   ]
  },
  {
   "cell_type": "code",
   "execution_count": 3,
   "metadata": {},
   "outputs": [],
   "source": [
    "N = 1000; D = 4; K = 3; # know N, D, and K\n",
    "w = np.random.random((D, K-1))*10 # use K-1 because it is identifiable in estimation\n",
    "w = np.concatenate((np.zeros((D, 1)), w), axis = 1) \n",
    "y, X = util.gen_multiple_choice_data(N, D, K, w)"
   ]
  },
  {
   "cell_type": "code",
   "execution_count": 4,
   "metadata": {
    "scrolled": false
   },
   "outputs": [
    {
     "name": "stdout",
     "output_type": "stream",
     "text": [
      "[[0.         3.87636046 8.06844608]\n",
      " [0.         9.47307596 2.92279439]\n",
      " [0.         9.84289957 1.98111079]\n",
      " [0.         0.1366462  0.74166592]]\n"
     ]
    }
   ],
   "source": [
    "# print(y)\n",
    "# print(X)\n",
    "print(w)"
   ]
  },
  {
   "cell_type": "code",
   "execution_count": 5,
   "metadata": {
    "scrolled": true
   },
   "outputs": [
    {
     "name": "stdout",
     "output_type": "stream",
     "text": [
      "2\n",
      "cuda:0\n",
      "cuda:1\n"
     ]
    }
   ],
   "source": [
    "# cuda device\n",
    "device_id = torch.cuda.device_count()\n",
    "print(device_id) # 0 and 1 are both available\n",
    "# if torch.cuda.is_available():\n",
    "device_0 = torch.device(\"cuda:0\")\n",
    "device_1 = torch.device(\"cuda:1\")\n",
    "print(device_0)\n",
    "print(device_1)"
   ]
  },
  {
   "cell_type": "code",
   "execution_count": 6,
   "metadata": {},
   "outputs": [],
   "source": [
    "X_torch = torch.from_numpy(X)\n",
    "y_torch = torch.from_numpy(y)\n",
    "w_torch = torch.randn(4, 3, requires_grad = True, dtype = torch.double)"
   ]
  },
  {
   "cell_type": "code",
   "execution_count": 7,
   "metadata": {
    "scrolled": false
   },
   "outputs": [
    {
     "name": "stdout",
     "output_type": "stream",
     "text": [
      "tensor([[-1.9491, -0.2354, -0.2943],\n",
      "        [ 2.0769,  0.4156,  0.1282],\n",
      "        [ 0.9985,  2.2843,  1.0736],\n",
      "        ...,\n",
      "        [ 0.4647,  1.3650,  0.8925],\n",
      "        [-0.9256, -2.0626, -1.4511],\n",
      "        [-0.1128,  0.3966,  0.1262]], dtype=torch.float64,\n",
      "       grad_fn=<MmBackward>)\n"
     ]
    }
   ],
   "source": [
    "def model(inputs):\n",
    "    U = torch.matmul(inputs, w_torch)\n",
    "    return U\n",
    "\n",
    "print(model(X_torch))"
   ]
  },
  {
   "cell_type": "code",
   "execution_count": 8,
   "metadata": {
    "scrolled": false
   },
   "outputs": [
    {
     "name": "stdout",
     "output_type": "stream",
     "text": [
      "True w is:  [[0.         3.87636046 8.06844608]\n",
      " [0.         9.47307596 2.92279439]\n",
      " [0.         9.84289957 1.98111079]\n",
      " [0.         0.1366462  0.74166592]]\n",
      "Learnt w is:  tensor([[ 1.1622,  1.5789,  0.8825],\n",
      "        [-0.7149,  0.8155,  0.2295],\n",
      "        [-0.0621,  0.5774,  0.2981],\n",
      "        [ 0.0531,  0.7800,  0.0961]], dtype=torch.float64, requires_grad=True)\n"
     ]
    },
    {
     "data": {
      "text/plain": [
       "[<matplotlib.lines.Line2D at 0x7f46600340d0>]"
      ]
     },
     "execution_count": 8,
     "metadata": {},
     "output_type": "execute_result"
    },
    {
     "data": {
      "image/png": "[encoded data removed]",
      "text/plain": [
       "<Figure size 432x288 with 1 Axes>"
      ]
     },
     "metadata": {
      "needs_background": "light"
     },
     "output_type": "display_data"
    }
   ],
   "source": [
    "# training set up 1.\n",
    "criterion = nn.CrossEntropyLoss()\n",
    "n_epoch = 1000\n",
    "loss_list = []\n",
    "\n",
    "# training\n",
    "for i in range(n_epoch):\n",
    "    U = model(X_torch)\n",
    "    loss = criterion(U, y_torch)\n",
    "    loss_list.append(loss.item())\n",
    "    loss.backward()\n",
    "    # update coefficients.\n",
    "    with torch.no_grad():\n",
    "        w_torch -= w_torch.grad * 1e-3\n",
    "        w_torch.grad.zero_()\n",
    "\n",
    "# check.\n",
    "print(\"True w is: \", w)\n",
    "print(\"Learnt w is: \", w_torch)\n",
    "plt.plot(loss_list)"
   ]
  },
  {
   "cell_type": "markdown",
   "metadata": {},
   "source": [
    "## Logistic regression example 2"
   ]
  },
  {
   "cell_type": "code",
   "execution_count": 15,
   "metadata": {
    "scrolled": false
   },
   "outputs": [
    {
     "name": "stdout",
     "output_type": "stream",
     "text": [
      "True w is:  [[0.         3.87636046 8.06844608]\n",
      " [0.         9.47307596 2.92279439]\n",
      " [0.         9.84289957 1.98111079]\n",
      " [0.         0.1366462  0.74166592]]\n",
      "Learnt w is:  tensor([[-1.9492,  0.9414,  0.2377],\n",
      "        [-0.9784,  0.4168, -0.0909],\n",
      "        [ 0.6762, -0.6026, -0.8796],\n",
      "        [-0.5333,  0.9961, -0.5187]], dtype=torch.float64, requires_grad=True)\n"
     ]
    },
    {
     "data": {
      "image/png": "[encoded data removed]",
      "text/plain": [
       "<Figure size 432x288 with 1 Axes>"
      ]
     },
     "metadata": {
      "needs_background": "light"
     },
     "output_type": "display_data"
    }
   ],
   "source": [
    "# training set up 2.\n",
    "# generate data\n",
    "X_torch = torch.from_numpy(X)\n",
    "y_torch = torch.from_numpy(y)\n",
    "w_torch = torch.randn(4, 3, requires_grad = True, dtype = torch.double)\n",
    "\n",
    "# class\n",
    "class SimpleLinear(nn.Module):\n",
    "    def __init__(self):\n",
    "        super().__init__()\n",
    "        # sw: note the way to define parameters. Use nn.Parameter() class\n",
    "        self.w = nn.Parameter(torch.randn(4, 3, requires_grad = True, dtype = torch.double))\n",
    "        \n",
    "    def forward(self, x):\n",
    "        x = torch.matmul(x, self.w)\n",
    "        return x\n",
    "\n",
    "# opt\n",
    "model = SimpleLinear()\n",
    "# model.parameters()\n",
    "opt = torch.optim.SGD(model.parameters(), 1e-1)\n",
    "criterion = nn.CrossEntropyLoss()\n",
    "n_epoch = 1000\n",
    "loss_list = []\n",
    "\n",
    "# training\n",
    "for i in range(n_epoch):\n",
    "    output = model(X_torch)\n",
    "    loss = criterion(output, y_torch)\n",
    "    loss.backward()\n",
    "    loss_list.append(loss.item())\n",
    "    with torch.no_grad():\n",
    "        opt.step()\n",
    "        opt.zero_grad()\n",
    "        \n",
    "# \n",
    "plt.plot(loss_list)\n",
    "print(\"True w is: \", w)\n",
    "print(\"Learnt w is: \", w_torch)"
   ]
  },
  {
   "cell_type": "code",
   "execution_count": null,
   "metadata": {},
   "outputs": [],
   "source": []
  },
  {
   "cell_type": "code",
   "execution_count": null,
   "metadata": {},
   "outputs": [],
   "source": []
  },
  {
   "cell_type": "code",
   "execution_count": null,
   "metadata": {},
   "outputs": [],
   "source": []
  },
  {
   "cell_type": "code",
   "execution_count": null,
   "metadata": {},
   "outputs": [],
   "source": []
  },
  {
   "cell_type": "code",
   "execution_count": null,
   "metadata": {},
   "outputs": [],
   "source": []
  },
  {
   "cell_type": "code",
   "execution_count": null,
   "metadata": {},
   "outputs": [],
   "source": []
  },
  {
   "cell_type": "code",
   "execution_count": null,
   "metadata": {},
   "outputs": [],
   "source": []
  },
  {
   "cell_type": "code",
   "execution_count": null,
   "metadata": {},
   "outputs": [],
   "source": []
  },
  {
   "cell_type": "code",
   "execution_count": null,
   "metadata": {},
   "outputs": [],
   "source": []
  },
  {
   "cell_type": "code",
   "execution_count": null,
   "metadata": {},
   "outputs": [],
   "source": []
  },
  {
   "cell_type": "code",
   "execution_count": null,
   "metadata": {},
   "outputs": [],
   "source": []
  },
  {
   "cell_type": "code",
   "execution_count": null,
   "metadata": {},
   "outputs": [],
   "source": []
  },
  {
   "cell_type": "code",
   "execution_count": null,
   "metadata": {},
   "outputs": [],
   "source": []
  },
  {
   "cell_type": "code",
   "execution_count": null,
   "metadata": {},
   "outputs": [],
   "source": []
  },
  {
   "cell_type": "code",
   "execution_count": null,
   "metadata": {},
   "outputs": [],
   "source": []
  },
  {
   "cell_type": "code",
   "execution_count": null,
   "metadata": {},
   "outputs": [],
   "source": []
  },
  {
   "cell_type": "code",
   "execution_count": null,
   "metadata": {},
   "outputs": [],
   "source": []
  },
  {
   "cell_type": "code",
   "execution_count": null,
   "metadata": {},
   "outputs": [],
   "source": []
  },
  {
   "cell_type": "code",
   "execution_count": null,
   "metadata": {},
   "outputs": [],
   "source": []
  },
  {
   "cell_type": "code",
   "execution_count": null,
   "metadata": {},
   "outputs": [],
   "source": []
  },
  {
   "cell_type": "code",
   "execution_count": null,
   "metadata": {},
   "outputs": [],
   "source": []
  },
  {
   "cell_type": "code",
   "execution_count": null,
   "metadata": {},
   "outputs": [],
   "source": []
  },
  {
   "cell_type": "code",
   "execution_count": null,
   "metadata": {},
   "outputs": [],
   "source": []
  },
  {
   "cell_type": "code",
   "execution_count": null,
   "metadata": {},
   "outputs": [],
   "source": []
  },
  {
   "cell_type": "code",
   "execution_count": null,
   "metadata": {},
   "outputs": [],
   "source": []
  },
  {
   "cell_type": "code",
   "execution_count": null,
   "metadata": {},
   "outputs": [],
   "source": []
  },
  {
   "cell_type": "code",
   "execution_count": null,
   "metadata": {},
   "outputs": [],
   "source": []
  }
 ],
 "metadata": {
  "kernelspec": {
   "display_name": "Python 3",
   "language": "python",
   "name": "python3"
  },
  "language_info": {
   "codemirror_mode": {
    "name": "ipython",
    "version": 3
   },
   "file_extension": ".py",
   "mimetype": "text/x-python",
   "name": "python",
   "nbconvert_exporter": "python",
   "pygments_lexer": "ipython3",
   "version": "3.7.4"
  }
 },
 "nbformat": 4,
 "nbformat_minor": 2
}
