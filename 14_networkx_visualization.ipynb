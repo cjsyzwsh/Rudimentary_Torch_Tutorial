{
 "cells": [
  {
   "cell_type": "markdown",
   "id": "27c0e8ac",
   "metadata": {},
   "source": [
    "# Network visualization\n"
   ]
  },
  {
   "cell_type": "markdown",
   "id": "0d196518",
   "metadata": {},
   "source": [
    "## 1 - Dendrogram\n",
    "\n",
    "Use scipy dendrogram"
   ]
  },
  {
   "cell_type": "code",
   "execution_count": null,
   "id": "a6624d61",
   "metadata": {},
   "outputs": [],
   "source": []
  },
  {
   "cell_type": "code",
   "execution_count": 1,
   "id": "3d9438ab",
   "metadata": {},
   "outputs": [
    {
     "data": {
      "image/png": "[encoded data removed]",
      "text/plain": [
       "<Figure size 432x288 with 1 Axes>"
      ]
     },
     "metadata": {
      "needs_background": "light"
     },
     "output_type": "display_data"
    }
   ],
   "source": [
    "# Load required modules\n",
    "import networkx as nx\n",
    "import matplotlib.pyplot as plt\n",
    "from scipy.cluster.hierarchy import dendrogram\n",
    "\n",
    "# Construct the graph/hierarchy\n",
    "d           = { 0: [1, 'd'], 1: ['a', 'b', 'c'], 'a': [], 'b': [], 'c': [], 'd': []}\n",
    "G           = nx.DiGraph(d)\n",
    "nodes       = G.nodes()\n",
    "leaves      = set( n for n in nodes if G.out_degree(n) == 0 )\n",
    "inner_nodes = [ n for n in nodes if G.out_degree(n) > 0 ]\n",
    "\n",
    "# Compute the size of each subtree\n",
    "subtree = dict( (n, [n]) for n in leaves )\n",
    "for u in inner_nodes:\n",
    "    children = set()\n",
    "    node_list = list(d[u])\n",
    "    while len(node_list) > 0:\n",
    "        v = node_list.pop(0)\n",
    "        children.add( v )\n",
    "        node_list += d[v]\n",
    "\n",
    "    subtree[u] = sorted(children & leaves)\n",
    "\n",
    "inner_nodes.sort(key=lambda n: len(subtree[n])) # <-- order inner nodes ascending by subtree size, root is last\n",
    "\n",
    "# Construct the linkage matrix\n",
    "leaves = sorted(leaves)\n",
    "index  = dict( (tuple([n]), i) for i, n in enumerate(leaves) )\n",
    "Z = []\n",
    "k = len(leaves)\n",
    "for i, n in enumerate(inner_nodes):\n",
    "    children = d[n]\n",
    "    x = children[0]\n",
    "    for y in children[1:]:\n",
    "        z = tuple(subtree[x] + subtree[y])\n",
    "        i, j = index[tuple(subtree[x])], index[tuple(subtree[y])]\n",
    "        Z.append([i, j, float(len(subtree[n])), len(z)]) # <-- float is required by the dendrogram function\n",
    "        index[z] = k\n",
    "        subtree[z] = list(z)\n",
    "        x = z\n",
    "        k += 1\n",
    "\n",
    "# Visualize\n",
    "dendrogram(Z, labels=leaves)\n",
    "plt.show()"
   ]
  },
  {
   "cell_type": "code",
   "execution_count": null,
   "id": "93556fab",
   "metadata": {},
   "outputs": [],
   "source": []
  },
  {
   "cell_type": "code",
   "execution_count": null,
   "id": "fe9b354a",
   "metadata": {},
   "outputs": [],
   "source": []
  },
  {
   "cell_type": "code",
   "execution_count": null,
   "id": "f24a1a9b",
   "metadata": {},
   "outputs": [],
   "source": []
  },
  {
   "cell_type": "code",
   "execution_count": null,
   "id": "6c327e87",
   "metadata": {},
   "outputs": [],
   "source": []
  },
  {
   "cell_type": "code",
   "execution_count": null,
   "id": "89890a50",
   "metadata": {},
   "outputs": [],
   "source": []
  },
  {
   "cell_type": "code",
   "execution_count": null,
   "id": "2e2a5e76",
   "metadata": {},
   "outputs": [],
   "source": []
  },
  {
   "cell_type": "code",
   "execution_count": null,
   "id": "4df2982b",
   "metadata": {},
   "outputs": [],
   "source": []
  },
  {
   "cell_type": "code",
   "execution_count": null,
   "id": "645f1897",
   "metadata": {},
   "outputs": [],
   "source": []
  },
  {
   "cell_type": "code",
   "execution_count": null,
   "id": "acbe17e6",
   "metadata": {},
   "outputs": [],
   "source": []
  },
  {
   "cell_type": "code",
   "execution_count": null,
   "id": "8d1c7e23",
   "metadata": {},
   "outputs": [],
   "source": []
  },
  {
   "cell_type": "code",
   "execution_count": null,
   "id": "799428aa",
   "metadata": {},
   "outputs": [],
   "source": []
  },
  {
   "cell_type": "code",
   "execution_count": null,
   "id": "d7349bee",
   "metadata": {},
   "outputs": [],
   "source": []
  },
  {
   "cell_type": "code",
   "execution_count": null,
   "id": "ff14495e",
   "metadata": {},
   "outputs": [],
   "source": []
  },
  {
   "cell_type": "code",
   "execution_count": null,
   "id": "c89ae3ff",
   "metadata": {},
   "outputs": [],
   "source": []
  },
  {
   "cell_type": "code",
   "execution_count": null,
   "id": "7e813504",
   "metadata": {},
   "outputs": [],
   "source": []
  },
  {
   "cell_type": "code",
   "execution_count": null,
   "id": "a8039363",
   "metadata": {},
   "outputs": [],
   "source": []
  }
 ],
 "metadata": {
  "kernelspec": {
   "display_name": "Python 3",
   "language": "python",
   "name": "python3"
  },
  "language_info": {
   "codemirror_mode": {
    "name": "ipython",
    "version": 3
   },
   "file_extension": ".py",
   "mimetype": "text/x-python",
   "name": "python",
   "nbconvert_exporter": "python",
   "pygments_lexer": "ipython3",
   "version": "3.7.5"
  }
 },
 "nbformat": 4,
 "nbformat_minor": 5
}
